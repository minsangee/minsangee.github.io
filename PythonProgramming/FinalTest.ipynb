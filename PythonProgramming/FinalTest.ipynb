{
  "nbformat": 4,
  "nbformat_minor": 0,
  "metadata": {
    "colab": {
      "provenance": []
    },
    "kernelspec": {
      "name": "python3",
      "display_name": "Python 3"
    },
    "language_info": {
      "name": "python"
    }
  },
  "cells": [
    {
      "cell_type": "markdown",
      "source": [
        "# HW3 파이썬프로그래밍 (2023년 2학기) 기말과제\n",
        "- 분반: ??\n",
        "- 이름: ???\n",
        "- 학번: ?????????\n",
        "\n",
        "\n",
        "----"
      ],
      "metadata": {
        "id": "F53toBVxrLar"
      }
    },
    {
      "cell_type": "code",
      "source": [
        "def h(n, src, dst, tmp): # n>0, n개 원반 하노이 탑을 src에서 dst로 tmp를 거쳐서 옮기기\n",
        "    if n > 1:\n",
        "        return h(n-1,src,tmp,dst) + h(1,src,dst,tmp) + h(n-1,tmp,dst,src)\n",
        "    else: # n == 1\n",
        "        return [(src,dst)]"
      ],
      "metadata": {
        "id": "4e8IIYfmzC1i"
      },
      "execution_count": null,
      "outputs": []
    },
    {
      "cell_type": "code",
      "source": [
        "h(1,'A','C','B')"
      ],
      "metadata": {
        "colab": {
          "base_uri": "https://localhost:8080/"
        },
        "id": "PkewBvtJzyjL",
        "outputId": "e833b0a2-c862-4ccd-e931-ced681b68a3a"
      },
      "execution_count": null,
      "outputs": [
        {
          "output_type": "execute_result",
          "data": {
            "text/plain": [
              "[('A', 'C')]"
            ]
          },
          "metadata": {},
          "execution_count": 2
        }
      ]
    },
    {
      "cell_type": "code",
      "source": [
        "h(3,'A','C','B')"
      ],
      "metadata": {
        "colab": {
          "base_uri": "https://localhost:8080/"
        },
        "id": "ws84P8lnzvAM",
        "outputId": "785b4d58-c8f9-490a-b3bb-223c2c59dec5"
      },
      "execution_count": null,
      "outputs": [
        {
          "output_type": "execute_result",
          "data": {
            "text/plain": [
              "[('A', 'C'),\n",
              " ('A', 'B'),\n",
              " ('C', 'B'),\n",
              " ('A', 'C'),\n",
              " ('B', 'A'),\n",
              " ('B', 'C'),\n",
              " ('A', 'C')]"
            ]
          },
          "metadata": {},
          "execution_count": 3
        }
      ]
    },
    {
      "cell_type": "markdown",
      "source": [
        "## 1. (10점) 하노이 탑 함수를 억지로 반복문으로 바꾸기\n",
        "수업시간에 재귀함수를 *억지로*(즉, 파이썬의 함수 호출을 시뮬레이션해서)\n",
        "반복문으로 바꾸는 방식으로 위의 재귀함수 `h`에 해당하는 반복문 버전의\n",
        "`htf`를 작성하라.\n",
        "\n",
        "코드는 다음과 같은 방식을 따라 작성해야 한다.\n",
        "(그 외의 창의적인 방법은 이 문제의 정답으로 인정하지 않음.)\n",
        "\n",
        "앞으로 남은 작업을 기록하는 작업 스택 `ts`에는\n",
        "다음과 같은 작업이 등록할 수 있다.\n",
        "- `('h', n, src, dst, tmp)` 재귀함수 호출에 해당하는 작업\n",
        "  - 파이썬 코드로는 `h(n-1,src,tmp,dst)`에 해당\n",
        "\n",
        "리턴 값은 작업 스택과 별도의 리턴값 스택 `rs`를 통해 관리한다.\n",
        "`rs`의 원소는 순서쌍 리스트이다. 그러니까 `rs`는 순서쌍으로 이루어진 리스트들이 여러 개 쌓여있는 셈이다. 예를 들면 다음과 같이 ...\n",
        "```python\n",
        "rs = [ [('A','C'),('A','B'),('C','B')],\n",
        "       [('A','C')],\n",
        "       [('B','A'),('B','C'),('A','C')] ]\n",
        "```"
      ],
      "metadata": {
        "id": "8bH75arqz6Jc"
      }
    },
    {
      "cell_type": "code",
      "execution_count": null,
      "metadata": {
        "id": "SHxYFTLirGR6"
      },
      "outputs": [],
      "source": [
        "def htf(n, src, dst, tmp):\n",
        "    ts = [('h', n, src, dst, tmp)]\n",
        "    rs = []\n",
        "    roof = n\n",
        "    arr = []\n",
        "    while ts != []:\n",
        "        task = ts.pop() # 마지막에 등록된 작업 뽑아내기\n",
        "        if 'h' == task[0]:\n",
        "            # 마지막에 등록된 작업이 h인 경우는 이렇게\n",
        "            _,n,src,dst,tmp = task\n",
        "            if n > 1:\n",
        "                if n == roof:\n",
        "                    ts.append( ('i') )\n",
        "                ts.append( ('h',n-1,tmp,dst,src) ) # 1단계\n",
        "                if n == roof:\n",
        "                    ts.append( ('i') )\n",
        "                ts.append( ('p',src,dst) )         # 2단계\n",
        "                if n == roof:\n",
        "                    ts.append( ('i') )\n",
        "                ts.append( ('h',n-1,src,tmp,dst) ) # 3단계\n",
        "\n",
        "            else: # n == 1\n",
        "                ts.append( ('p',src,dst) ) # 출력 함수 호출 작업 등록\n",
        "        elif 'p' == task[0]: # 마지막에 등록된 작업이 p인 경우는\n",
        "            _,src,dst = task\n",
        "            arr.append((src, dst))\n",
        "        else:\n",
        "            rs.append(arr.copy())\n",
        "            arr.clear()\n",
        "\n",
        "    return rs"
      ]
    },
    {
      "cell_type": "code",
      "source": [
        "def h(n, src, dst, tmp): # n개 원반 하노이 탑을 src에서 dst로 tmp를 거쳐서 옮기기\n",
        "    if n > 1:\n",
        "        h(n-1, src, tmp, dst) # 1단계\n",
        "        print(src, \"=>\", dst) # 2단계\n",
        "        h(n-1, tmp, dst, src) # 3단계\n",
        "    else: # n == 1\n",
        "        print(src, \"=>\", dst)"
      ],
      "metadata": {
        "id": "yvgh-XLn2_aN"
      },
      "execution_count": null,
      "outputs": []
    },
    {
      "cell_type": "code",
      "source": [
        "htf(3, 'A', 'C', 'B')"
      ],
      "metadata": {
        "id": "XkID3wvL3BuE",
        "colab": {
          "base_uri": "https://localhost:8080/"
        },
        "outputId": "33b09ff2-7214-4ff0-e6d6-4787d404d01b"
      },
      "execution_count": null,
      "outputs": [
        {
          "output_type": "execute_result",
          "data": {
            "text/plain": [
              "[[('A', 'C'), ('A', 'B'), ('C', 'B')],\n",
              " [('A', 'C')],\n",
              " [('B', 'A'), ('B', 'C'), ('A', 'C')]]"
            ]
          },
          "metadata": {},
          "execution_count": 102
        }
      ]
    },
    {
      "cell_type": "markdown",
      "source": [
        "----\n",
        "\n",
        "아래와 같은 공식이 성립하는 무한 다항식의 곱셈과 나눗셈을 정의하자\n",
        "\n",
        "- (공식1): $1 = (1-x) \\times (1 + x + x^2 + x^3 + x^4 + \\cdots)$\n",
        "- (공식2): $1 = (1+x) \\times (1 - x + x^2 - x^3 + x^4 + \\cdots)$\n",
        "- (공식3): $1/(1-x) = 1 + x + x^2 + x^3 + x^4 + \\cdots$\n",
        "  - 공식3은 공식1에 대응되는 나눗셈 버전\n",
        "- (공식4): $1/(1+x) = 1 - x + x^2 - x^3 + x^4 + \\cdots$\n",
        "  - 공식4는 공식2에 대응되는 나눗셈 버전\n",
        "- (공식5):\n",
        "$ 1/(1-x^2) = (1 + x + x^2 + x^3 + x^4 + \\cdots) \\times (1 - x + x^2 - x^3 + x^4 + \\cdots)$\n",
        "  - 공식3과 공식4의 양변을 각각 곱하면 얻을 수 있는 공식"
      ],
      "metadata": {
        "id": "0EmbAfsI6x5P"
      }
    },
    {
      "cell_type": "code",
      "source": [
        "from itertools import *\n",
        "# 곱셈과 나눗셈을 작성할 때 활용할 뎃셈과 뺄셈\n",
        "\n",
        "def add_poly(p1, p2): # 무한 다항식의 덧셈\n",
        "    return map( (lambda a,b: a+b), p1, p2)\n",
        "\n",
        "def sub_poly(p1, p2): # 무한 다항식의 뺄셈\n",
        "    return map( (lambda a,b: a-b), p1, p2)"
      ],
      "metadata": {
        "id": "cqFqqP4Ds2jq"
      },
      "execution_count": null,
      "outputs": []
    },
    {
      "cell_type": "markdown",
      "source": [
        "## 2. (10점) 무한 다항식의 곱셈을 작성하고 테스트하라\n",
        "제너레이터 함수와 제너레이터 표현식\n",
        "그리고 관련 라이브러리 함수들을 활용해\n",
        "작성하라.\n",
        "\n",
        "테스트할 내용은 다음과 같다.\n",
        "- 공식1이 성립하는지 확인\n",
        "- 공식2가 성립하는지 확인\n",
        "- 제시된 공식들 외에 확인하고 싶은 무한 다항식의 곱셈 추가 테스트 2개 이상\n",
        "\n",
        "이렇게 총 4개 이상의 테스트를 해야 한다"
      ],
      "metadata": {
        "id": "NxEN66Qv6blM"
      }
    },
    {
      "cell_type": "code",
      "source": [
        "from itertools import *\n",
        "\n",
        "def mul_poly(p1, p2):\n",
        "    pass"
      ],
      "metadata": {
        "id": "-ONs1bOX3OX6"
      },
      "execution_count": null,
      "outputs": []
    },
    {
      "cell_type": "code",
      "source": [
        "# 공식1 테스트"
      ],
      "metadata": {
        "id": "sfEcMRZ2FFJL"
      },
      "execution_count": null,
      "outputs": []
    },
    {
      "cell_type": "code",
      "source": [
        "# 공식2 테스트"
      ],
      "metadata": {
        "id": "f0spdAI-FGYL"
      },
      "execution_count": null,
      "outputs": []
    },
    {
      "cell_type": "code",
      "source": [
        "# 자유 테스트"
      ],
      "metadata": {
        "id": "7Uz3YRSyFJGJ"
      },
      "execution_count": null,
      "outputs": []
    },
    {
      "cell_type": "code",
      "source": [
        "# 자유 테스트"
      ],
      "metadata": {
        "id": "axT2ozIEFKRe"
      },
      "execution_count": null,
      "outputs": []
    },
    {
      "cell_type": "markdown",
      "source": [
        "## 3. (10점) 무한 다항식의 나눗셈을 작성하고 테스트하라\n",
        "\n",
        "제너레이터 함수와 제너레이터 표현식\n",
        "그리고 관련 라이브러리 함수들을 활용해\n",
        "작성하라.\n",
        "\n",
        "테스트할 내용은 다음과 같다.\n",
        "- 공식3이 성립하는지 확인\n",
        "- 공식4가 성립하는지 확인\n",
        "- 공식5가 성립하는지 확인 (앞 문제의 곱셉 함수도 함께 활용)\n",
        "- 제시된 공식들 외에 확인하고 싶은 무한 다항식의 나눗셈 추가 테스트 1개 이상\n",
        "\n",
        "이렇게 총 4개 이상의 테스트를 해야 한다"
      ],
      "metadata": {
        "id": "dEYgjHzTFPJq"
      }
    },
    {
      "cell_type": "code",
      "source": [
        "from itertools import *\n",
        "\n",
        "def div_poly(p1, p2):\n",
        "    pass"
      ],
      "metadata": {
        "id": "zvRyJAJnFMU-"
      },
      "execution_count": null,
      "outputs": []
    },
    {
      "cell_type": "code",
      "source": [
        "# 공식3 테스트"
      ],
      "metadata": {
        "id": "t5qwj-DLF2Gi"
      },
      "execution_count": null,
      "outputs": []
    },
    {
      "cell_type": "code",
      "source": [
        "# 공식4 테스트"
      ],
      "metadata": {
        "id": "kackR8lvF481"
      },
      "execution_count": null,
      "outputs": []
    },
    {
      "cell_type": "code",
      "source": [
        "# 공식5 테스트"
      ],
      "metadata": {
        "id": "HPED7HN6F4su"
      },
      "execution_count": null,
      "outputs": []
    },
    {
      "cell_type": "code",
      "source": [
        "# 자유 테스트"
      ],
      "metadata": {
        "id": "wZMf4EviF4nT"
      },
      "execution_count": null,
      "outputs": []
    },
    {
      "cell_type": "markdown",
      "source": [
        "---\n",
        "\n",
        "최장 공통 부분문자열 (Longest Common Substring, 줄여서 LCSstr이라고 하자) 표현하는 재귀 알고리즘과 그에 대해 메모해두기를 적용한 함수를 작성해 보자.\n"
      ],
      "metadata": {
        "id": "s3MMiOTZF5kq"
      }
    },
    {
      "cell_type": "code",
      "source": [
        "from typing import *"
      ],
      "metadata": {
        "id": "Rw8ZEAuGjjOc"
      },
      "execution_count": null,
      "outputs": []
    },
    {
      "cell_type": "code",
      "source": [
        "s5 = \"hello\"\n",
        "s5[1:], s5[:-1]"
      ],
      "metadata": {
        "colab": {
          "base_uri": "https://localhost:8080/"
        },
        "id": "gzd9aJvVeymT",
        "outputId": "0a451850-614e-4653-b058-00d5a4024eb7"
      },
      "execution_count": null,
      "outputs": [
        {
          "output_type": "execute_result",
          "data": {
            "text/plain": [
              "('ello', 'hell')"
            ]
          },
          "metadata": {},
          "execution_count": 18
        }
      ]
    },
    {
      "cell_type": "code",
      "source": [
        "# s1과 s2의 LCSstr 길이를 계산하는 재귀함수\n",
        "def lcsstr(s1:str, s2:str) -> int:\n",
        "    if s1 != \"\" and s2 != \"\":\n",
        "        if s1 == s2:\n",
        "            return len(s1)\n",
        "        else:\n",
        "            _s1, s1_ = s1[1:], s1[:-1]\n",
        "            _s2, s2_ = s2[1:], s2[:-1]\n",
        "            n1 = lcsstr(_s1,s2)\n",
        "            n2 = lcsstr(s1_,s2)\n",
        "            n3 = lcsstr(s1,_s2)\n",
        "            n4 = lcsstr(s1,s2_)\n",
        "            # 두 문자열의 양 끝 중 한 곳에서 글자 하나 제외하는 모든 4가지 경우 중 최대값\n",
        "            m = max(n1, n2, n3, n4)\n",
        "            return m\n",
        "    else: # s1==\"\" or s2==\"\"\n",
        "        return 0"
      ],
      "metadata": {
        "id": "YvoUgyPBF58e"
      },
      "execution_count": null,
      "outputs": []
    },
    {
      "cell_type": "code",
      "source": [
        "lcsstr(\"\", \"hello\")"
      ],
      "metadata": {
        "colab": {
          "base_uri": "https://localhost:8080/"
        },
        "id": "KjZqB14ONncq",
        "outputId": "855ec7ad-a967-4c2a-82a4-de6f3f47d1cf"
      },
      "execution_count": null,
      "outputs": [
        {
          "output_type": "execute_result",
          "data": {
            "text/plain": [
              "0"
            ]
          },
          "metadata": {},
          "execution_count": 20
        }
      ]
    },
    {
      "cell_type": "code",
      "source": [
        "lcsstr(\"hello\", \"\")"
      ],
      "metadata": {
        "colab": {
          "base_uri": "https://localhost:8080/"
        },
        "id": "HOFBEltofsXE",
        "outputId": "87ea68ed-28dc-42d2-f6de-000bfcdb84d2"
      },
      "execution_count": null,
      "outputs": [
        {
          "output_type": "execute_result",
          "data": {
            "text/plain": [
              "0"
            ]
          },
          "metadata": {},
          "execution_count": 21
        }
      ]
    },
    {
      "cell_type": "code",
      "source": [
        "lcsstr(\"hello\", \"lolly\")"
      ],
      "metadata": {
        "colab": {
          "base_uri": "https://localhost:8080/"
        },
        "id": "GfoQP8jcfu2s",
        "outputId": "01afe13b-fd34-4c37-e5cb-00e8e49889ec"
      },
      "execution_count": null,
      "outputs": [
        {
          "output_type": "execute_result",
          "data": {
            "text/plain": [
              "2"
            ]
          },
          "metadata": {},
          "execution_count": 22
        }
      ]
    },
    {
      "cell_type": "code",
      "source": [
        "lcsstr(\"hello\", \"jelly\")"
      ],
      "metadata": {
        "colab": {
          "base_uri": "https://localhost:8080/"
        },
        "id": "WhTTsbz-f_O4",
        "outputId": "55c6365e-c661-473b-9384-c824d7874590"
      },
      "execution_count": null,
      "outputs": [
        {
          "output_type": "execute_result",
          "data": {
            "text/plain": [
              "3"
            ]
          },
          "metadata": {},
          "execution_count": 23
        }
      ]
    },
    {
      "cell_type": "code",
      "source": [
        "lcsstr(\"hello\", \"shell\")"
      ],
      "metadata": {
        "colab": {
          "base_uri": "https://localhost:8080/"
        },
        "id": "CpZdumXLf5hz",
        "outputId": "dee43d97-97f3-4a63-f26d-b5d9ed1a170f"
      },
      "execution_count": null,
      "outputs": [
        {
          "output_type": "execute_result",
          "data": {
            "text/plain": [
              "4"
            ]
          },
          "metadata": {},
          "execution_count": 24
        }
      ]
    },
    {
      "cell_type": "code",
      "source": [
        "lcsstr(\"hello\", \"hello\")"
      ],
      "metadata": {
        "colab": {
          "base_uri": "https://localhost:8080/"
        },
        "id": "BUSaVG1Hf2CV",
        "outputId": "61606190-ffba-4a09-ff63-92c1055bf9de"
      },
      "execution_count": null,
      "outputs": [
        {
          "output_type": "execute_result",
          "data": {
            "text/plain": [
              "5"
            ]
          },
          "metadata": {},
          "execution_count": 25
        }
      ]
    },
    {
      "cell_type": "code",
      "source": [
        "lcsstr(\"hellohi\", \"hihello\") # 느려진다 (대략 5초 이상)"
      ],
      "metadata": {
        "colab": {
          "base_uri": "https://localhost:8080/"
        },
        "id": "WcItNje3f4Xc",
        "outputId": "fec569f2-2ea2-469e-b481-42075061060e"
      },
      "execution_count": null,
      "outputs": [
        {
          "output_type": "execute_result",
          "data": {
            "text/plain": [
              "5"
            ]
          },
          "metadata": {},
          "execution_count": 26
        }
      ]
    },
    {
      "cell_type": "code",
      "source": [
        "# lcsstr(\"hellobye\", \"byehello\") # 너무 느리다 (1분 훌쩍 넘어감)\n",
        "# # 5가 나올 것이다. 시간이 많이 걸리니까 주석처리해 놓음"
      ],
      "metadata": {
        "id": "NNbF97hbg5os"
      },
      "execution_count": null,
      "outputs": []
    },
    {
      "cell_type": "markdown",
      "source": [
        "## 4. (5점) `lcsstr` 함수에 메모해두기 적용\n",
        "`lcsstr` 함수에 메모해두기를 적용한 `lcsstrM` 함수를 작성하라.\n",
        "\n",
        "당연히 `functools`의 `@cache` 매크로를 활용하면 안되고,\n",
        "수업시간에 했던 것처럼 메모해두는 용도의 딕셔너리와\n",
        "내부 함수 `rec`을 정의하여 `lcsstr`의 구조를 되도록\n",
        "따르면서 작성하라.  \n",
        "\n",
        "함수를 작성한 다음 충분한 개수의 적절한 테스트를 하라."
      ],
      "metadata": {
        "id": "2ae7WhSFnscA"
      }
    },
    {
      "cell_type": "code",
      "source": [
        "def lcsstrM(s1:str, s2:str) -> int:\n",
        "    # 메모해두기에 활용할 딕셔너리 여기에 초기화\n",
        "    def rec(s1:str, s2:str) -> int:\n",
        "        pass # lcsstr의 구조를 따라 작성\n",
        "    # rec 함수 호출\n",
        "    return rec(s1, s2)"
      ],
      "metadata": {
        "id": "N_-LAp5Vohpq"
      },
      "execution_count": null,
      "outputs": []
    },
    {
      "cell_type": "code",
      "source": [
        "# 충분한 개수의 적절한 테스트를 하라."
      ],
      "metadata": {
        "id": "McpGpGTJolMz"
      },
      "execution_count": null,
      "outputs": []
    },
    {
      "cell_type": "code",
      "source": [
        "# 충분한 개수의 적절한 테스트를 하라."
      ],
      "metadata": {
        "id": "DUB9ui9ColJw"
      },
      "execution_count": null,
      "outputs": []
    },
    {
      "cell_type": "code",
      "source": [
        "# 충분한 개수의 적절한 테스트를 하라."
      ],
      "metadata": {
        "id": "McDsfyKvonHN"
      },
      "execution_count": null,
      "outputs": []
    },
    {
      "cell_type": "code",
      "source": [
        "# 충분한 개수의 적절한 테스트를 하라."
      ],
      "metadata": {
        "id": "cm3D07JPoiAl"
      },
      "execution_count": null,
      "outputs": []
    },
    {
      "cell_type": "markdown",
      "source": [
        "## 5. (5점) LCSstr 그 자체(즉, 문자열)를 계산하는 재귀함수\n",
        "주어진 두 문자열에 대한 LCSstr의 길이를 계산하는 대신\n",
        "LCSstr 자체를 계산하는 함수 `lcsstrS`를 작성하라.\n",
        "그러니까 `lcsstrS`의 리턴값은 int가 아니라 str이다.\n",
        "메모해두기는 적용하지 말고 `lcsstr`의\n",
        "재귀적인 구조를 그대로 따르면서 작성해야 한다.\n",
        "\n",
        "서로 다른 여러 개의 LCSstr이 있는 경우는\n",
        "여러 개 중에서 아무거나 하나 리턴하면 된다.\n",
        "예컨대, `lcsstrS(\"hello\", \"lolly\")`의 값으로 `\"ll\"`을 리턴하도록 해되 좋고 `\"lo\"`를 리턴하도록 해도 좋다.\n",
        "\n",
        "함수를 작성한 다음 충분한 개수의 적절한 테스트를 하라.\n",
        "\n"
      ],
      "metadata": {
        "id": "pnKbdd8QlHj2"
      }
    },
    {
      "cell_type": "code",
      "source": [
        "# s1과 s2의 LCSstr 그 자체(즉, 문자열)를 계산하는 재귀함수\n",
        "def lcsstrS(s1:str, s2:str) -> str:\n",
        "    '''\n",
        "    # 참고로, 아래는 lcsstr 함수 몸체 내용을 복붙해 놓았다\n",
        "    # (위로 스크롤하면서 참고하느라 귀찮치 않도록)\n",
        "    if s1 != \"\" and s2 != \"\":\n",
        "        if s1 == s2:\n",
        "            return len(s1)\n",
        "        else:\n",
        "            _s1, s1_ = s1[1:], s1[:-1]\n",
        "            _s2, s2_ = s2[1:], s2[:-1]\n",
        "            n1 = lcsstr(_s1,s2)\n",
        "            n2 = lcsstr(s1_,s2)\n",
        "            n3 = lcsstr(s1,_s2)\n",
        "            n4 = lcsstr(s1,s2_)\n",
        "            # 두 문자열의 양 끝 중 한 곳에서 글자 하나 제외하는 모든 4가지 경우 중 최대값\n",
        "            m = max(n1, n2, n3, n4)\n",
        "            return m\n",
        "    else: # s1==\"\" or s2==\"\"\n",
        "        return 0\n",
        "    '''\n",
        "    pass"
      ],
      "metadata": {
        "id": "exdDwtYshVOV"
      },
      "execution_count": null,
      "outputs": []
    },
    {
      "cell_type": "code",
      "source": [
        "# 충분한 개수의 적절한 테스트를 하라."
      ],
      "metadata": {
        "id": "_-f7NRsEpeBs"
      },
      "execution_count": null,
      "outputs": []
    },
    {
      "cell_type": "code",
      "source": [
        "# 충분한 개수의 적절한 테스트를 하라."
      ],
      "metadata": {
        "id": "gcbQV-pupeRD"
      },
      "execution_count": null,
      "outputs": []
    },
    {
      "cell_type": "code",
      "source": [
        "# 충분한 개수의 적절한 테스트를 하라."
      ],
      "metadata": {
        "id": "Hak6rew5peaX"
      },
      "execution_count": null,
      "outputs": []
    },
    {
      "cell_type": "code",
      "source": [
        "# 충분한 개수의 적절한 테스트를 하라."
      ],
      "metadata": {
        "id": "JtUSknogpehB"
      },
      "execution_count": null,
      "outputs": []
    },
    {
      "cell_type": "markdown",
      "source": [
        "## 6. (5점) 모든 LCSstr의 집합을 계산하는 재귀함수\n",
        "하나의 LCSstr이 아니라 모든 LCSstr의 집합을 계산하는 함수 `lcsstrSS`를 작성하라.\n",
        "그러니까 `lcsstrSS`의 str이 아니라 set이다.\n",
        "메모해두기는 적용하지 말고 `lcsstrS`의\n",
        "재귀적인 구조를 그대로 따르면서 작성해야 한다.\n",
        "\n",
        "예컨대, `lcsstrSS(\"hello\", \"lolly\") == {\"ll\",\"lo\"}`이다.\n",
        "\n",
        "함수를 작성한 다음 충분한 개수의 적절한 테스트를 하라.\n",
        "\n"
      ],
      "metadata": {
        "id": "9oGawwtTp4Jl"
      }
    },
    {
      "cell_type": "code",
      "source": [
        "def lcsstrSS(s1:str, s2:str) -> set[str]:\n",
        "    pass"
      ],
      "metadata": {
        "id": "TpDpnl15pgFA"
      },
      "execution_count": null,
      "outputs": []
    },
    {
      "cell_type": "code",
      "source": [
        "# 충분한 개수의 적절한 테스트를 하라."
      ],
      "metadata": {
        "id": "la5cBUXZpg7k"
      },
      "execution_count": null,
      "outputs": []
    },
    {
      "cell_type": "code",
      "source": [
        "# 충분한 개수의 적절한 테스트를 하라."
      ],
      "metadata": {
        "id": "Rn3FYIF8pg97"
      },
      "execution_count": null,
      "outputs": []
    },
    {
      "cell_type": "code",
      "source": [
        "# 충분한 개수의 적절한 테스트를 하라."
      ],
      "metadata": {
        "id": "9-EhBbc9phBL"
      },
      "execution_count": null,
      "outputs": []
    },
    {
      "cell_type": "code",
      "source": [
        "# 충분한 개수의 적절한 테스트를 하라."
      ],
      "metadata": {
        "id": "6-GD5h16phDz"
      },
      "execution_count": null,
      "outputs": []
    },
    {
      "cell_type": "markdown",
      "source": [
        "## 7. (10점) 위 `lcsstrSS`에 메모해두기 적용\n",
        "`lcsstrSS` 함수에 메모해두기를 적용한 `lcsstrSSM` 함수를 작성하라.\n",
        "\n",
        "당연히 `functools`의 `@cache` 매크로를 활용하면 안되고,\n",
        "수업시간에 했던 것처럼 메모해두는 용도의 딕셔너리와\n",
        "내부 함수 `rec`을 정의하여 `lcsstrSSM`의 구조를 되도록\n",
        "따르면서 작성하라.  \n",
        "\n",
        "함수를 작성한 다음 충분한 개수의 적절한 테스트를 하라.\n",
        "\n"
      ],
      "metadata": {
        "id": "Ff_nZZqZq93l"
      }
    },
    {
      "cell_type": "code",
      "source": [
        "def lcsstrSSM(s1:str, s2:str) -> set[str]:\n",
        "    # 메모해두기에 활용할 딕셔너리 여기에 초기화\n",
        "    def rec(s1:str, s2:str) -> int:\n",
        "        pass # lcsstr의 구조를 따라 작성\n",
        "    # rec 함수 호출\n",
        "    return rec(s1, s2)"
      ],
      "metadata": {
        "id": "DTlSposKph4m"
      },
      "execution_count": null,
      "outputs": []
    },
    {
      "cell_type": "code",
      "source": [
        "# 충분한 개수의 적절한 테스트를 하라."
      ],
      "metadata": {
        "id": "uGaPaF-tpiel"
      },
      "execution_count": null,
      "outputs": []
    },
    {
      "cell_type": "code",
      "source": [
        "# 충분한 개수의 적절한 테스트를 하라."
      ],
      "metadata": {
        "id": "yvu2BjmBpihe"
      },
      "execution_count": null,
      "outputs": []
    },
    {
      "cell_type": "code",
      "source": [
        "# 충분한 개수의 적절한 테스트를 하라."
      ],
      "metadata": {
        "id": "ZTIA-_n3piju"
      },
      "execution_count": null,
      "outputs": []
    },
    {
      "cell_type": "code",
      "source": [
        "# 충분한 개수의 적절한 테스트를 하라."
      ],
      "metadata": {
        "id": "HM3r_EtLpimd"
      },
      "execution_count": null,
      "outputs": []
    },
    {
      "cell_type": "markdown",
      "source": [
        "-----\n",
        "기억하라 중간고사 마지막 문제를 그리고 업그레이드하라!"
      ],
      "metadata": {
        "id": "7Pr4fiOlVZIq"
      }
    },
    {
      "cell_type": "code",
      "source": [
        "from typing import *"
      ],
      "metadata": {
        "id": "fMINIiq2XeYk"
      },
      "execution_count": null,
      "outputs": []
    },
    {
      "cell_type": "code",
      "source": [
        "def merge(ls: list, rs: list) -> list:\n",
        "    ss = []\n",
        "    while ls!=[] and rs!=[]:\n",
        "        if ls[0] <= rs[0]:\n",
        "            ss.append( ls[0] )  # ss = ss + [ ls[0] ]\n",
        "            ls = ls[1:]\n",
        "        else: # left[0] > right[0]\n",
        "            ss.append( rs[0] )  # ss = ss + [ rs[0] ]\n",
        "            rs = rs[1:]\n",
        "    # left==[] or right==[]\n",
        "    return ss + ls + rs"
      ],
      "metadata": {
        "id": "pfkuWQKVWkss"
      },
      "execution_count": null,
      "outputs": []
    },
    {
      "cell_type": "code",
      "source": [
        "def mergeAdjacent(xss: list[list]) -> None:\n",
        "    for k in range(len(xss)//2 - 1, -1, -1):\n",
        "        xss[2*k:2*k+2] = [ merge(xss[2*k],xss[2*k+1]) ]"
      ],
      "metadata": {
        "id": "WwfvTRQfXVOA"
      },
      "execution_count": null,
      "outputs": []
    },
    {
      "cell_type": "code",
      "source": [
        "def msort(xs: list) -> list:\n",
        "    if len(xs) > 1:\n",
        "        xss = [ [x] for x in xs ] # 원소 한개로 이루어진 리스트들의 리스트\n",
        "        while len(xss) > 1:\n",
        "            mergeAdjacent(xss)\n",
        "        return xss[0]\n",
        "    else: # 길이가 1이하이면 그대로 이미 정렬된 상태나 마찬가지\n",
        "        return xs"
      ],
      "metadata": {
        "id": "w47Z8JfNWfTC"
      },
      "execution_count": null,
      "outputs": []
    },
    {
      "cell_type": "code",
      "source": [
        "msort([])"
      ],
      "metadata": {
        "colab": {
          "base_uri": "https://localhost:8080/"
        },
        "id": "9_QZynUOWrga",
        "outputId": "d1030457-61cf-45f7-a31d-f4d11bf56728"
      },
      "execution_count": null,
      "outputs": [
        {
          "output_type": "execute_result",
          "data": {
            "text/plain": [
              "[]"
            ]
          },
          "metadata": {},
          "execution_count": 52
        }
      ]
    },
    {
      "cell_type": "code",
      "source": [
        "msort([1])"
      ],
      "metadata": {
        "colab": {
          "base_uri": "https://localhost:8080/"
        },
        "id": "J1LeBgCmWu4T",
        "outputId": "73990a07-3040-43cb-ffa8-9f29d86bfea6"
      },
      "execution_count": null,
      "outputs": [
        {
          "output_type": "execute_result",
          "data": {
            "text/plain": [
              "[1]"
            ]
          },
          "metadata": {},
          "execution_count": 53
        }
      ]
    },
    {
      "cell_type": "code",
      "source": [
        "msort([32,23,18,7,11,99,55])"
      ],
      "metadata": {
        "colab": {
          "base_uri": "https://localhost:8080/"
        },
        "id": "uYpEuz-BWys3",
        "outputId": "94bf7a99-1ca1-4c08-b6f3-ae4a99174318"
      },
      "execution_count": null,
      "outputs": [
        {
          "output_type": "execute_result",
          "data": {
            "text/plain": [
              "[7, 11, 18, 23, 32, 55, 99]"
            ]
          },
          "metadata": {},
          "execution_count": 54
        }
      ]
    },
    {
      "cell_type": "markdown",
      "source": [
        "## 8. (10점) 위의 상향식 merge sort 구현에 `key` 파라메터를 추가\n",
        "표준라이브러리 `sorted` 함수처럼"
      ],
      "metadata": {
        "id": "UU_08wOSUSf5"
      }
    },
    {
      "cell_type": "code",
      "source": [
        "# def my_merge( ... )\n",
        "def my_merge(ls: list, rs: list, key) -> list:\n",
        "    ss = []\n",
        "    while ls!=[] and rs!=[]:\n",
        "        if key(ls[0]) <= key(rs[0]):\n",
        "            ss.append( ls[0] )  # ss = ss + [ ls[0] ]\n",
        "            ls = ls[1:]\n",
        "        else: # left[0] > right[0]\n",
        "            ss.append( rs[0] )  # ss = ss + [ rs[0] ]\n",
        "            rs = rs[1:]\n",
        "    # left==[] or right==[]\n",
        "    return ss + ls + rs\n",
        "# def my_mergeAdjacent( ... )\n",
        "def my_mergeAdjacent(xss: list[list], key) -> None:\n",
        "    for k in range(len(xss)//2 - 1, -1, -1):\n",
        "        xss[2*k:2*k+2] = [ my_merge(xss[2*k],xss[2*k+1], key) ]\n",
        "\n",
        "# def my_msort( xs, key=(lambda x: x) )\n",
        "def my_msort(xs: list, key=(lambda x: x) ) -> list:\n",
        "    if len(xs) > 1:\n",
        "        xss = [ [x] for x in xs ] # 원소 한개로 이루어진 리스트들의 리스트\n",
        "        while len(xss) > 1:\n",
        "            my_mergeAdjacent(xss, key)\n",
        "        return xss[0]\n",
        "    else: # 길이가 1이하이면 그대로 이미 정렬된 상태나 마찬가지\n",
        "        return xs"
      ],
      "metadata": {
        "id": "qBJU6IX1USBX"
      },
      "execution_count": null,
      "outputs": []
    },
    {
      "cell_type": "code",
      "source": [
        "my_msort([32,23,18,7,11,99,55], lambda x : -x)"
      ],
      "metadata": {
        "id": "i43YsLBHYnV0",
        "colab": {
          "base_uri": "https://localhost:8080/"
        },
        "outputId": "98eff95a-31a9-4d9f-9a7f-8b43cb27dedb"
      },
      "execution_count": null,
      "outputs": [
        {
          "output_type": "execute_result",
          "data": {
            "text/plain": [
              "[99, 55, 32, 23, 18, 11, 7]"
            ]
          },
          "metadata": {},
          "execution_count": 147
        }
      ]
    },
    {
      "cell_type": "code",
      "source": [
        "my_msort([20,18,6,53,201,815,60], lambda x : -x)"
      ],
      "metadata": {
        "id": "xKGoeA0eYlkl",
        "colab": {
          "base_uri": "https://localhost:8080/"
        },
        "outputId": "77c6b79e-07fd-4e43-8e4b-d3cb40525faf"
      },
      "execution_count": null,
      "outputs": [
        {
          "output_type": "execute_result",
          "data": {
            "text/plain": [
              "[815, 201, 60, 53, 20, 18, 6]"
            ]
          },
          "metadata": {},
          "execution_count": 148
        }
      ]
    },
    {
      "cell_type": "code",
      "source": [
        "my_msort([32,23,18,7,11,99,55], lambda x : x)"
      ],
      "metadata": {
        "id": "k3PT5HTgZPYm",
        "outputId": "56de0aa3-5a98-4ebb-fc16-74071d9f9f4d",
        "colab": {
          "base_uri": "https://localhost:8080/"
        }
      },
      "execution_count": null,
      "outputs": [
        {
          "output_type": "execute_result",
          "data": {
            "text/plain": [
              "[7, 11, 18, 23, 32, 55, 99]"
            ]
          },
          "metadata": {},
          "execution_count": 149
        }
      ]
    },
    {
      "cell_type": "markdown",
      "source": [
        "## 9. (5점) 문자열 길이를 기준으로 정렬하되 길이가 같은 문자열끼리는 사전 역순으로\n",
        "그런 식으로 정렬되도록 위에서 작성한 my_msort를 활용해 정렬하는 실행 테스트를 작성하라"
      ],
      "metadata": {
        "id": "JE2abp_VYqKC"
      }
    },
    {
      "cell_type": "code",
      "source": [],
      "metadata": {
        "id": "jgh7zxFWZyMN"
      },
      "execution_count": null,
      "outputs": []
    },
    {
      "cell_type": "code",
      "source": [
        "my_msort(['this', 'is', 'very', 'hard', 'to', 'change', 'that'], lambda x: (len(x), -ord(x[0])))"
      ],
      "metadata": {
        "id": "eSETlULiY4mE",
        "colab": {
          "base_uri": "https://localhost:8080/"
        },
        "outputId": "6af423d4-45c2-4aac-a203-aed9ee32e5bb"
      },
      "execution_count": null,
      "outputs": [
        {
          "output_type": "execute_result",
          "data": {
            "text/plain": [
              "['to', 'is', 'very', 'this', 'that', 'hard', 'change']"
            ]
          },
          "metadata": {},
          "execution_count": 154
        }
      ]
    }
  ]
}
